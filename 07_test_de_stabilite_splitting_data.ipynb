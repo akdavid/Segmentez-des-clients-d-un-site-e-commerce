{
 "cells": [
  {
   "cell_type": "code",
   "execution_count": 1,
   "metadata": {},
   "outputs": [
    {
     "name": "stderr",
     "output_type": "stream",
     "text": [
      "/var/folders/17/7v9_fz593_xfss9zy0542f940000gn/T/ipykernel_51203/2313653102.py:33: FutureWarning: A value is trying to be set on a copy of a DataFrame or Series through chained assignment using an inplace method.\n",
      "The behavior will change in pandas 3.0. This inplace method will never work because the intermediate object on which we are setting values always behaves as a copy.\n",
      "\n",
      "For example, when doing 'df[col].method(value, inplace=True)', try using 'df.method({col: value}, inplace=True)' or df[col] = df[col].method(value) instead, to perform the operation inplace on the original object.\n",
      "\n",
      "\n",
      "  customer_data['recency'].fillna(customer_data['recency'].mean(), inplace=True)\n",
      "/var/folders/17/7v9_fz593_xfss9zy0542f940000gn/T/ipykernel_51203/2313653102.py:34: FutureWarning: A value is trying to be set on a copy of a DataFrame or Series through chained assignment using an inplace method.\n",
      "The behavior will change in pandas 3.0. This inplace method will never work because the intermediate object on which we are setting values always behaves as a copy.\n",
      "\n",
      "For example, when doing 'df[col].method(value, inplace=True)', try using 'df.method({col: value}, inplace=True)' or df[col] = df[col].method(value) instead, to perform the operation inplace on the original object.\n",
      "\n",
      "\n",
      "  customer_data['frequency'].fillna(customer_data['frequency'].mean(), inplace=True)\n",
      "/var/folders/17/7v9_fz593_xfss9zy0542f940000gn/T/ipykernel_51203/2313653102.py:35: FutureWarning: A value is trying to be set on a copy of a DataFrame or Series through chained assignment using an inplace method.\n",
      "The behavior will change in pandas 3.0. This inplace method will never work because the intermediate object on which we are setting values always behaves as a copy.\n",
      "\n",
      "For example, when doing 'df[col].method(value, inplace=True)', try using 'df.method({col: value}, inplace=True)' or df[col] = df[col].method(value) instead, to perform the operation inplace on the original object.\n",
      "\n",
      "\n",
      "  customer_data['monetary'].fillna(customer_data['monetary'].mean(), inplace=True)\n",
      "/var/folders/17/7v9_fz593_xfss9zy0542f940000gn/T/ipykernel_51203/2313653102.py:36: FutureWarning: A value is trying to be set on a copy of a DataFrame or Series through chained assignment using an inplace method.\n",
      "The behavior will change in pandas 3.0. This inplace method will never work because the intermediate object on which we are setting values always behaves as a copy.\n",
      "\n",
      "For example, when doing 'df[col].method(value, inplace=True)', try using 'df.method({col: value}, inplace=True)' or df[col] = df[col].method(value) instead, to perform the operation inplace on the original object.\n",
      "\n",
      "\n",
      "  customer_data['avg_review_score'].fillna(customer_data['avg_review_score'].mean(), inplace=True)\n"
     ]
    }
   ],
   "source": [
    "import pandas as pd\n",
    "from datetime import datetime\n",
    "from sklearn.cluster import KMeans\n",
    "from sklearn.preprocessing import StandardScaler\n",
    "from sklearn.metrics import adjusted_rand_score\n",
    "from sklearn.model_selection import train_test_split\n",
    "import numpy as np\n",
    "\n",
    "# Load the data\n",
    "file_path = 'customer_details_v3.csv'  # Update with your actual file path\n",
    "customer_data = pd.read_csv(file_path)\n",
    "\n",
    "# Define the current date for RFM analysis\n",
    "current_date = datetime.strptime('2018-10-18', '%Y-%m-%d')\n",
    "\n",
    "# Calculate recency (number of days since the last order)\n",
    "customer_data['last_order'] = pd.to_datetime(customer_data['last_order'])\n",
    "customer_data['recency'] = (current_date - customer_data['last_order']).dt.days\n",
    "\n",
    "# Calculate frequency using the 'connection_days' column\n",
    "customer_data['frequency'] = customer_data['connection_days']\n",
    "\n",
    "# Calculate monetary value using the 'total_spent' column\n",
    "customer_data['monetary'] = customer_data['total_spent']\n",
    "\n",
    "# Ensure the columns are numeric\n",
    "customer_data['recency'] = pd.to_numeric(customer_data['recency'], errors='coerce')\n",
    "customer_data['frequency'] = pd.to_numeric(customer_data['frequency'], errors='coerce')\n",
    "customer_data['monetary'] = pd.to_numeric(customer_data['monetary'], errors='coerce')\n",
    "customer_data['avg_review_score'] = pd.to_numeric(customer_data['avg_review_score'], errors='coerce')\n",
    "\n",
    "# Handle missing values by replacing them with the mean of the column\n",
    "customer_data['recency'].fillna(customer_data['recency'].mean(), inplace=True)\n",
    "customer_data['frequency'].fillna(customer_data['frequency'].mean(), inplace=True)\n",
    "customer_data['monetary'].fillna(customer_data['monetary'].mean(), inplace=True)\n",
    "customer_data['avg_review_score'].fillna(customer_data['avg_review_score'].mean(), inplace=True)"
   ]
  },
  {
   "cell_type": "code",
   "execution_count": 2,
   "metadata": {},
   "outputs": [],
   "source": [
    "def stability_test(data, k, random_state=42):\n",
    "    # Split the data into 3 equal parts\n",
    "    part1, part2, part3 = np.array_split(data, 3)\n",
    "\n",
    "    # Standard scaling on part1\n",
    "    scaler1 = StandardScaler()\n",
    "    part1_scaled = scaler1.fit_transform(part1)\n",
    "\n",
    "    # KMeans on part1\n",
    "    kmeans1 = KMeans(n_clusters=k, random_state=random_state).fit(part1_scaled)\n",
    "    labels1 = kmeans1.labels_\n",
    "\n",
    "    # Standard scaling on part2\n",
    "    scaler2 = StandardScaler()\n",
    "    part2_scaled = scaler2.fit_transform(part2)\n",
    "\n",
    "    # KMeans on part2\n",
    "    kmeans2 = KMeans(n_clusters=k, random_state=random_state).fit(part2_scaled)\n",
    "    labels2 = kmeans2.labels_\n",
    "\n",
    "    # Apply scaler1 to part3 and predict labels with kmeans1\n",
    "    part3_scaled_with_scaler1 = scaler1.transform(part3)\n",
    "    labels3_1 = kmeans1.predict(part3_scaled_with_scaler1)\n",
    "\n",
    "    # Apply scaler2 to part3 and predict labels with kmeans2\n",
    "    part3_scaled_with_scaler2 = scaler2.transform(part3)\n",
    "    labels3_2 = kmeans2.predict(part3_scaled_with_scaler2)\n",
    "\n",
    "    # Compare the labels\n",
    "    ari_3_1_vs_3_2 = adjusted_rand_score(labels3_1, labels3_2)\n",
    "    \n",
    "    return ari_3_1_vs_3_2"
   ]
  },
  {
   "cell_type": "code",
   "execution_count": 5,
   "metadata": {},
   "outputs": [
    {
     "name": "stdout",
     "output_type": "stream",
     "text": [
      "Stability ARI Score: 0.5020559472110425\n"
     ]
    },
    {
     "name": "stderr",
     "output_type": "stream",
     "text": [
      "/Users/anthonydavid/miniconda3/envs/OC-env-2/lib/python3.10/site-packages/numpy/core/fromnumeric.py:59: FutureWarning: 'DataFrame.swapaxes' is deprecated and will be removed in a future version. Please use 'DataFrame.transpose' instead.\n",
      "  return bound(*args, **kwds)\n"
     ]
    }
   ],
   "source": [
    "# Select the necessary columns for clustering\n",
    "features = ['recency', 'frequency', 'monetary', 'avg_review_score']\n",
    "# features = ['recency', 'frequency', 'monetary']\n",
    "clustering_features = customer_data[features]\n",
    "\n",
    "# Test the function\n",
    "k = 3\n",
    "ari_score = stability_test(clustering_features, k)\n",
    "print(f'Stability ARI Score: {ari_score}')"
   ]
  },
  {
   "cell_type": "code",
   "execution_count": 6,
   "metadata": {},
   "outputs": [
    {
     "name": "stdout",
     "output_type": "stream",
     "text": [
      "Stability ARI Score: 0.9781080959431614\n"
     ]
    },
    {
     "name": "stderr",
     "output_type": "stream",
     "text": [
      "/Users/anthonydavid/miniconda3/envs/OC-env-2/lib/python3.10/site-packages/numpy/core/fromnumeric.py:59: FutureWarning: 'DataFrame.swapaxes' is deprecated and will be removed in a future version. Please use 'DataFrame.transpose' instead.\n",
      "  return bound(*args, **kwds)\n"
     ]
    }
   ],
   "source": [
    "# Select the necessary columns for clustering\n",
    "features = ['recency', 'frequency', 'monetary', 'avg_review_score']\n",
    "# features = ['recency', 'frequency', 'monetary']\n",
    "clustering_features = customer_data[features]\n",
    "\n",
    "# Test the function\n",
    "k = 4\n",
    "ari_score = stability_test(clustering_features, k)\n",
    "print(f'Stability ARI Score: {ari_score}')"
   ]
  },
  {
   "cell_type": "code",
   "execution_count": null,
   "metadata": {},
   "outputs": [],
   "source": []
  }
 ],
 "metadata": {
  "kernelspec": {
   "display_name": "OC-env-2",
   "language": "python",
   "name": "python3"
  },
  "language_info": {
   "codemirror_mode": {
    "name": "ipython",
    "version": 3
   },
   "file_extension": ".py",
   "mimetype": "text/x-python",
   "name": "python",
   "nbconvert_exporter": "python",
   "pygments_lexer": "ipython3",
   "version": "3.10.13"
  }
 },
 "nbformat": 4,
 "nbformat_minor": 2
}
